{
 "cells": [
  {
   "cell_type": "code",
   "execution_count": 9,
   "id": "3b62656e-8b70-4fe1-bf22-ae203694eaa2",
   "metadata": {
    "tags": []
   },
   "outputs": [],
   "source": [
    "# Creare, a mano, una lista che contenga i numeri da 0 a 5, memorizzarla in una variabile e infine stamparla a video.\n",
    "Elenco = [1, 2, 3, 5, 5]"
   ]
  },
  {
   "cell_type": "code",
   "execution_count": 10,
   "id": "39bf0f40-c3de-4fee-a6d6-2f79ed9bfaa0",
   "metadata": {
    "tags": []
   },
   "outputs": [
    {
     "name": "stdout",
     "output_type": "stream",
     "text": [
      "[1, 2, 3, 5, 5]\n"
     ]
    }
   ],
   "source": [
    "print(Elenco)"
   ]
  },
  {
   "cell_type": "code",
   "execution_count": 18,
   "id": "1ebc23d8-a513-4103-8895-ee8800b5591e",
   "metadata": {
    "tags": []
   },
   "outputs": [],
   "source": [
    "# Crea, a mano, una lista che contenga tre titoli dei tuoi film preferiti, memorizzarla in una variabile e infine stampala a video.\n",
    "\n",
    "ElencoFilm = ['Shutter Island', 'Harry Potter', 'Insidious']"
   ]
  },
  {
   "cell_type": "code",
   "execution_count": 19,
   "id": "3172c53f-7214-4448-878e-4477ce7a3309",
   "metadata": {
    "tags": []
   },
   "outputs": [
    {
     "name": "stdout",
     "output_type": "stream",
     "text": [
      "['Shutter Island', 'Harry Potter', 'Insidious']\n"
     ]
    }
   ],
   "source": [
    "print(ElencoFilm)"
   ]
  },
  {
   "cell_type": "code",
   "execution_count": 20,
   "id": "9b3d4a55-7010-410b-bc88-5ba0be137371",
   "metadata": {
    "tags": []
   },
   "outputs": [],
   "source": [
    "# Abbiamo la stringa: nome_scuola = \"Epicode\" Stampare l'iniziale. Utilizzeremo: • le parentesi quadre [] per accedere agli elementi della stringa mediante indicizzazione"
   ]
  },
  {
   "cell_type": "code",
   "execution_count": 28,
   "id": "10e13564-6ef2-42a4-8363-9c409997863a",
   "metadata": {
    "tags": []
   },
   "outputs": [
    {
     "name": "stdout",
     "output_type": "stream",
     "text": [
      "E\n"
     ]
    }
   ],
   "source": [
    "nome_scuola = \"Epicode\"\n",
    "Iniziale = nome_scuola[0]\n",
    "print(Iniziale)"
   ]
  },
  {
   "cell_type": "code",
   "execution_count": null,
   "id": "66b1e294-0e08-4654-93c6-e8c109c26c5a",
   "metadata": {},
   "outputs": [],
   "source": [
    "#Abbiamo la stringa: nome_scuola = \"Epicode\" Stampare le prime tre lettere. Utilizzeremo: • le parentesi quadre [] e l'operatore : per accedere agli elementi della stringa mediante slicing\n"
   ]
  },
  {
   "cell_type": "code",
   "execution_count": 29,
   "id": "2190c649-8b80-4a78-99c2-f17b2c44f6cd",
   "metadata": {
    "tags": []
   },
   "outputs": [
    {
     "name": "stdout",
     "output_type": "stream",
     "text": [
      "Epi\n"
     ]
    }
   ],
   "source": [
    "nome_scuola = \"Epicode\"\n",
    "Iniziale = nome_scuola[0:3]\n",
    "print(Iniziale)"
   ]
  },
  {
   "cell_type": "code",
   "execution_count": null,
   "id": "8e56bb7d-17a1-4a10-aee1-bc4300fc0aa7",
   "metadata": {},
   "outputs": [],
   "source": [
    "#Abbiamo la variabile: x = 10 Incrementarla di 2 e poi moltiplicarla per 3 Usare due metodi diversi (ad esempio, uno utilizzando gli operatori di assegnazione, e uno senza)"
   ]
  },
  {
   "cell_type": "code",
   "execution_count": 32,
   "id": "c08dca04-3bb4-4042-aa51-cbf57a6b3303",
   "metadata": {
    "tags": []
   },
   "outputs": [
    {
     "name": "stdout",
     "output_type": "stream",
     "text": [
      "36\n"
     ]
    }
   ],
   "source": [
    "x = 10\n",
    "y = (x + 2)*3\n",
    "print(y)"
   ]
  },
  {
   "cell_type": "code",
   "execution_count": 33,
   "id": "55b4a853-f22e-4b1b-831a-1930a90cf3f8",
   "metadata": {
    "tags": []
   },
   "outputs": [
    {
     "name": "stdout",
     "output_type": "stream",
     "text": [
      "36\n"
     ]
    }
   ],
   "source": [
    "x = 10\n",
    "x += 2\n",
    "x *= 3\n",
    "print(x)"
   ]
  },
  {
   "cell_type": "code",
   "execution_count": 34,
   "id": "c0e71ac4-a38a-476e-ae72-8e17335eddc9",
   "metadata": {
    "tags": []
   },
   "outputs": [],
   "source": [
    "#Scriviamo un programma che chiede in input all'utente una stringa e visualizza i primi 3 caratteri, seguiti da 3 punti di sospensione e quindi gli ultimi 3 caratteri. Esempio: • Input: computer • Output: com...ter • Input: algoritmo • Output: alg...tmo"
   ]
  },
  {
   "cell_type": "code",
   "execution_count": 77,
   "id": "7d1a6427-dc7f-4901-858b-cfd2c896a54f",
   "metadata": {
    "tags": []
   },
   "outputs": [
    {
     "name": "stdin",
     "output_type": "stream",
     "text": [
      "il tuo dispositivo  McbookAir\n"
     ]
    },
    {
     "name": "stdout",
     "output_type": "stream",
     "text": [
      "Hai inserito: Mcb ... Air\n"
     ]
    }
   ],
   "source": [
    "input_utente = (input(\"il tuo dispositivo \"))\n",
    "primi_caratteri = input_utente[:3]\n",
    "ultimi_caratteri = input_utente[-3:]\n",
    "output= primi_caratteri + \"...\" + ultimi_caratteri\n",
    "print(\"Hai inserito:\",primi_caratteri,\"...\",ultimi_caratteri)"
   ]
  },
  {
   "cell_type": "code",
   "execution_count": null,
   "id": "87234ba4-b9cb-452e-b996-8d7cc3ed95fa",
   "metadata": {},
   "outputs": [],
   "source": [
    "#!!!!!!!!!!!!!!!Verificare, per ognuna delle seguenti stringhe, se il numero di caratteri è compreso tra 5 e 8: • Windows • Excel • Powerpoint • Word"
   ]
  },
  {
   "cell_type": "code",
   "execution_count": 82,
   "id": "1372d6fc-fbfc-4cf4-95aa-96ea56cf7845",
   "metadata": {
    "tags": []
   },
   "outputs": [
    {
     "name": "stdout",
     "output_type": "stream",
     "text": [
      "Lunghezza della prima stringa: 7\n",
      "Lunghezza della seconda stringa: 5\n",
      "Lunghezza della terza stringa: 10\n",
      "Lunghezza della quarta stringa: 4\n"
     ]
    }
   ],
   "source": [
    "stringhe = [\"Windows\", \"Excel\", \"Powerpoint\", \"Word\"]\n",
    "risultati = [5 <= len(s) <= 8 for s in stringhe]\n",
    "print(\"Lunghezza della prima stringa:\", len(stringhe[0]))\n",
    "print(\"Lunghezza della seconda stringa:\", len(stringhe[1]))\n",
    "print(\"Lunghezza della terza stringa:\", len(stringhe[2]))\n",
    "print(\"Lunghezza della quarta stringa:\", len(stringhe[3]))"
   ]
  },
  {
   "cell_type": "code",
   "execution_count": 83,
   "id": "520b7d30-9dc2-4d81-a381-2785c8785b7f",
   "metadata": {
    "tags": []
   },
   "outputs": [],
   "source": [
    "#Abbiamo la seguente lista di codici prodotto: codici = [\"knt-S1\", \"cba-G9\", \"qtr-Z8\"] Per ognuno dei codici, estrarre la parte finale (gli ultimi tre caratteri, quindi trattino incluso) e memorizzarli in una nuova lista."
   ]
  },
  {
   "cell_type": "code",
   "execution_count": null,
   "id": "0a5dd141-039f-41eb-9938-f30f8f4352d8",
   "metadata": {},
   "outputs": [],
   "source": [
    "codici = [\"knt-S1\", \"cba-G9\", \"qtr-Z8\"]\n"
   ]
  },
  {
   "cell_type": "code",
   "execution_count": 85,
   "id": "c2308833-1471-4cf4-857c-5109eeb1910e",
   "metadata": {
    "tags": []
   },
   "outputs": [],
   "source": [
    "#Esercizio (1/3)\n",
    "\n",
    "#hanno una crescita dei ricavi maggiore della media\n",
    "growth = {\"Tesla\", \"Shopify\", \"Block\", \"Etsy\", \"MercadoLibre\", \"Netflix\", \"Amazon\", \"Meta Platforms\", \"Salesforce\", \"Alphabet\"}\n",
    "\n",
    "#titoli che offrono agli investitori un elevato ritorno sull’investimento, garantendo al contempo stabilità e sicurezza\n",
    "value = {\"Pfizer\", \"Johnson & Johnson\", \"JPMorgan Chase & Co.\", \"Wells Fargo & Co.\", \"Verizon Communications\", \"BP PLC\", \"LyondellBasell Industries\", \"MetLife\", \"Interactive Brokers Group\", \"Intel\"}\n",
    "\n",
    "#aziende ad alta tecnologia\n",
    "tech = {\"Apple\", \"Microsoft\", \"Alphabet\", \"Amazon\", \"NVIDIA\", \"Meta Platforms\", \"Tesla\", \"Alibaba\", \"Salesforce\", \"Advanced Micro Devices\", \"Intel\", \"PayPal\", \"Activision Blizzard\", \"Electronic Arts\", \"The Trade Desk\", \"Zillow Group\", \"Match Group\", \"Yelp\"}\n",
    "\n",
    "#Aziende assistenza sanitaria\n",
    "healthcare = {\"UnitedHealth Group\", \"Johnson & Johnson\", \"Eli Lilly & Co.\", \"Novo Nordisk\", \"Merck & Co.\", \"Roche Holding\", \"Pfizer\", \"Thermo Fisher Scientific\", \"Abbott Laboratories\"}"
   ]
  },
  {
   "cell_type": "code",
   "execution_count": 86,
   "id": "fcf34554-b84d-4387-9b93-67bef6d4d016",
   "metadata": {
    "tags": []
   },
   "outputs": [
    {
     "data": {
      "text/plain": [
       "{'Alphabet',\n",
       " 'Amazon',\n",
       " 'BP PLC',\n",
       " 'Block',\n",
       " 'Etsy',\n",
       " 'Intel',\n",
       " 'Interactive Brokers Group',\n",
       " 'JPMorgan Chase & Co.',\n",
       " 'Johnson & Johnson',\n",
       " 'LyondellBasell Industries',\n",
       " 'MercadoLibre',\n",
       " 'MetLife',\n",
       " 'Meta Platforms',\n",
       " 'Netflix',\n",
       " 'Pfizer',\n",
       " 'Salesforce',\n",
       " 'Shopify',\n",
       " 'Tesla',\n",
       " 'Verizon Communications',\n",
       " 'Wells Fargo & Co.'}"
      ]
     },
     "execution_count": 86,
     "metadata": {},
     "output_type": "execute_result"
    }
   ],
   "source": [
    "# se vuole diversificare l'investimento, investendo in aziende growth e value, quali sono le aziende?\n",
    "growth|value"
   ]
  },
  {
   "cell_type": "code",
   "execution_count": 87,
   "id": "4b77d94f-ac9a-4a50-af88-f29fddddf01d",
   "metadata": {
    "tags": []
   },
   "outputs": [
    {
     "data": {
      "text/plain": [
       "{'Alphabet', 'Amazon', 'Meta Platforms', 'Salesforce', 'Tesla'}"
      ]
     },
     "execution_count": 87,
     "metadata": {},
     "output_type": "execute_result"
    }
   ],
   "source": [
    "#quali sono le aziende tecnologiche growth?\n",
    "growth&tech"
   ]
  },
  {
   "cell_type": "code",
   "execution_count": 88,
   "id": "1de4508c-d45e-4f52-ba9e-b474b503ebf0",
   "metadata": {
    "tags": []
   },
   "outputs": [
    {
     "data": {
      "text/plain": [
       "{'Alphabet',\n",
       " 'Amazon',\n",
       " 'BP PLC',\n",
       " 'Block',\n",
       " 'Etsy',\n",
       " 'Intel',\n",
       " 'Interactive Brokers Group',\n",
       " 'JPMorgan Chase & Co.',\n",
       " 'Johnson & Johnson',\n",
       " 'LyondellBasell Industries',\n",
       " 'MercadoLibre',\n",
       " 'MetLife',\n",
       " 'Meta Platforms',\n",
       " 'Netflix',\n",
       " 'Pfizer',\n",
       " 'Salesforce',\n",
       " 'Shopify',\n",
       " 'Tesla',\n",
       " 'Verizon Communications',\n",
       " 'Wells Fargo & Co.'}"
      ]
     },
     "execution_count": 88,
     "metadata": {},
     "output_type": "execute_result"
    }
   ],
   "source": [
    "#se vuole investire sia in aziende tecnologiche che value, quali deve considerare?\n",
    "growth|value"
   ]
  },
  {
   "cell_type": "code",
   "execution_count": 89,
   "id": "fa9dfe93-05a0-4f1b-b6a6-a7cc774ed3c8",
   "metadata": {
    "tags": []
   },
   "outputs": [
    {
     "data": {
      "text/plain": [
       "{'Abbott Laboratories',\n",
       " 'BP PLC',\n",
       " 'Eli Lilly & Co.',\n",
       " 'Intel',\n",
       " 'Interactive Brokers Group',\n",
       " 'JPMorgan Chase & Co.',\n",
       " 'LyondellBasell Industries',\n",
       " 'Merck & Co.',\n",
       " 'MetLife',\n",
       " 'Novo Nordisk',\n",
       " 'Roche Holding',\n",
       " 'Thermo Fisher Scientific',\n",
       " 'UnitedHealth Group',\n",
       " 'Verizon Communications',\n",
       " 'Wells Fargo & Co.'}"
      ]
     },
     "execution_count": 89,
     "metadata": {},
     "output_type": "execute_result"
    }
   ],
   "source": [
    "#quali sono i titoli healthcare che non sono value?\n",
    "healthcare^value"
   ]
  },
  {
   "cell_type": "code",
   "execution_count": 90,
   "id": "de06739d-8b25-49e8-a6a1-305dbc701ad9",
   "metadata": {
    "tags": []
   },
   "outputs": [
    {
     "data": {
      "text/plain": [
       "set()"
      ]
     },
     "execution_count": 90,
     "metadata": {},
     "output_type": "execute_result"
    }
   ],
   "source": [
    "#ci sono aziende sia tech che healthcare? No, non ce ne sono.\n",
    "tech&healthcare"
   ]
  },
  {
   "cell_type": "code",
   "execution_count": 91,
   "id": "55118210-01d0-48fa-a2f4-04fa56af4e94",
   "metadata": {
    "tags": []
   },
   "outputs": [
    {
     "data": {
      "text/plain": [
       "{'Alphabet',\n",
       " 'Amazon',\n",
       " 'BP PLC',\n",
       " 'Intel',\n",
       " 'Interactive Brokers Group',\n",
       " 'JPMorgan Chase & Co.',\n",
       " 'Johnson & Johnson',\n",
       " 'LyondellBasell Industries',\n",
       " 'MetLife',\n",
       " 'Meta Platforms',\n",
       " 'Pfizer',\n",
       " 'Salesforce',\n",
       " 'Tesla',\n",
       " 'Verizon Communications',\n",
       " 'Wells Fargo & Co.'}"
      ]
     },
     "execution_count": 91,
     "metadata": {},
     "output_type": "execute_result"
    }
   ],
   "source": [
    "#in quali deve investire se vuole azioni tech ma solo se siano growth o value?\n",
    "tech&growth|value"
   ]
  },
  {
   "cell_type": "code",
   "execution_count": null,
   "id": "5b7f8c2c-c884-4e41-9a5c-6b8c6a6579f7",
   "metadata": {},
   "outputs": [],
   "source": []
  }
 ],
 "metadata": {
  "kernelspec": {
   "display_name": "Python 3 (ipykernel)",
   "language": "python",
   "name": "python3"
  },
  "language_info": {
   "codemirror_mode": {
    "name": "ipython",
    "version": 3
   },
   "file_extension": ".py",
   "mimetype": "text/x-python",
   "name": "python",
   "nbconvert_exporter": "python",
   "pygments_lexer": "ipython3",
   "version": "3.11.5"
  }
 },
 "nbformat": 4,
 "nbformat_minor": 5
}
